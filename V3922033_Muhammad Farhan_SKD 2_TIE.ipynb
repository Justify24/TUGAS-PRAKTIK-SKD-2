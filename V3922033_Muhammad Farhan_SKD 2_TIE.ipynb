{
 "cells": [
  {
   "cell_type": "code",
   "execution_count": 6,
   "id": "c66cb3ea",
   "metadata": {},
   "outputs": [
    {
     "name": "stdout",
     "output_type": "stream",
     "text": [
      "Pilih operasi (1 untuk enkripsi, 2 untuk dekripsi): 2\n",
      "Masukkan pesan yang akan didekripsi: ohsv\n",
      "Pesan terdekripsi: halo\n"
     ]
    }
   ],
   "source": [
    "def enkripsi(teks):\n",
    "    teks_terenkripsi = \"\"\n",
    "    for karakter in teks:\n",
    "        if karakter.isalpha():\n",
    "            # Tentukan apakah karakter itu huruf besar atau kecil\n",
    "            huruf_besar = karakter.isupper()\n",
    "            karakter = karakter.lower()\n",
    "            \n",
    "            # Hitung posisi karakter baru setelah pergeseran 33\n",
    "            karakter_baru = chr(((ord(karakter) - ord('a') + 33) % 26) + ord('a'))\n",
    "            \n",
    "            # Jika karakter asli adalah huruf besar, konversi karakter baru ke huruf besar\n",
    "            if huruf_besar:\n",
    "                karakter_baru = karakter_baru.upper()\n",
    "            \n",
    "            teks_terenkripsi += karakter_baru\n",
    "        else:\n",
    "            # Jika bukan huruf, biarkan karakter tersebut tetap\n",
    "            teks_terenkripsi += karakter\n",
    "    \n",
    "    return teks_terenkripsi\n",
    "\n",
    "def dekripsi(teks):\n",
    "    teks_terdekripsi = \"\"\n",
    "    for karakter in teks:\n",
    "        if karakter.isalpha():\n",
    "            # Tentukan apakah karakter itu huruf besar atau kecil\n",
    "            huruf_besar = karakter.isupper()\n",
    "            karakter = karakter.lower()\n",
    "            \n",
    "            # Hitung posisi karakter asli sebelum pergeseran 33\n",
    "            karakter_asli = chr(((ord(karakter) - ord('a') - 33) % 26) + ord('a'))\n",
    "            \n",
    "            # Jika karakter asli adalah huruf besar, konversi karakter asli ke huruf besar\n",
    "            if huruf_besar:\n",
    "                karakter_asli = karakter_asli.upper()\n",
    "            \n",
    "            teks_terdekripsi += karakter_asli\n",
    "        else:\n",
    "            # Jika bukan huruf, biarkan karakter tersebut tetap\n",
    "            teks_terdekripsi += karakter\n",
    "    \n",
    "    return teks_terdekripsi\n",
    "\n",
    "def main():\n",
    "    pilihan = input(\"Pilih operasi (1 untuk enkripsi, 2 untuk dekripsi): \")\n",
    "    if pilihan == '1':\n",
    "        teks_input = input(\"Masukkan pesan yang akan dienkripsi: \")\n",
    "        teks_terenkripsi = enkripsi(teks_input)\n",
    "        print(\"Pesan terenkripsi:\", teks_terenkripsi)\n",
    "    elif pilihan == '2':\n",
    "        teks_input = input(\"Masukkan pesan yang akan didekripsi: \")\n",
    "        teks_terdekripsi = dekripsi(teks_input)\n",
    "        print(\"Pesan terdekripsi:\", teks_terdekripsi)\n",
    "    else:\n",
    "        print(\"Pilihan tidak valid\")\n",
    "\n",
    "if __name__ == \"__main__\":\n",
    "    main()\n"
   ]
  },
  {
   "cell_type": "code",
   "execution_count": null,
   "id": "59a353d7",
   "metadata": {},
   "outputs": [],
   "source": []
  }
 ],
 "metadata": {
  "kernelspec": {
   "display_name": "Python 3 (ipykernel)",
   "language": "python",
   "name": "python3"
  },
  "language_info": {
   "codemirror_mode": {
    "name": "ipython",
    "version": 3
   },
   "file_extension": ".py",
   "mimetype": "text/x-python",
   "name": "python",
   "nbconvert_exporter": "python",
   "pygments_lexer": "ipython3",
   "version": "3.11.4"
  }
 },
 "nbformat": 4,
 "nbformat_minor": 5
}
